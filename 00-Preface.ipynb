{
  "cells": [
    {
      "cell_type": "markdown",
      "metadata": {
        "id": "z2c6JFr7juPQ"
      },
      "source": [
        "# FP: Programming Fundamentals (with Python)\n",
        "\n",
        "## Preface\n",
        "\n",
        "### L.EIC/2024-25\n",
        "\n",
        "#### João Correia Lopes$^{1}$, Pedro Vasconcelos$^{2}$, Nuno Macedo$^{1}$, Alexandra Mendes$^{1}$\n",
        "$^{1}$FEUP/DEI & INESC TEC\\\n",
        "$^{2}$FCUP/DCC & LIACC"
      ]
    },
    {
      "cell_type": "markdown",
      "metadata": {
        "id": "u8Ojq9vSaDEj"
      },
      "source": [
        "The Jupyter Notebook collection serves as an overview of the materials to be studied at the Unit. Notebooks are used as the basis for class presentations and discussions, so you should **study them carefully before coming to class**.\n",
        "\n",
        "Note that the use of the <upxxxxxxxxx@g.uporto.pt> account for the U.P. Google Cloud is required to access the notebooks.\n",
        "If you don't have an account, just go to your personal Sigarra page and look for the \"Google Account\" option.\n",
        "\n",
        "**There's no point in asking them to be shared individually with your personal Google account!**\n",
        "\n",
        "&nbsp;\n",
        "\n",
        "A Jupyter notebook is a document that supports narrative text, Python executable code, equations and visualizations.\n",
        "\n",
        "First, get a copy of the notebooks from the *Materials folder* at Google U.Porto and **make your own copy** in Google Colab.\n",
        "\n",
        "Then, to prepare for the lecture, you read the notebook, change and execute the Python code and, during the class, you may use your copy of the notebook to take notes.\n",
        "\n",
        "**If you find mistakes or have suggestions for improvements in the notebooks, please let us know.**\n",
        "\n",
        "About 2/3 of the materials are based on the open-source book:\n",
        "[How to Think Like a Computer Scientist](http://openbookproject.net/thinkcs/python/english3e/index.html).\n"
      ]
    },
    {
      "cell_type": "markdown",
      "metadata": {
        "id": "sciOQfYvjYW7"
      },
      "source": [
        "### 1. Tips\n",
        "\n",
        "- The notebooks are used in the class to illustrate the discussions and the coding examples; therefore, there are no slides to study the class matters later; moreover, it should be noted that the notebooks are NOT a replacement for **studying the bibliography** listed for each topic\n",
        "\n",
        "- \"Students are responsible for anything that transpires during a class, therefore **if you're not in a class**, you should get notes from someone else (not the instructor)\" — David Mayer\n",
        "\n",
        "- Students have to **read carefully** and **understand** the documentation published in the [Unit Moodle instance](https://moodle.up.pt) (or else **ask in the recitation class**)"
      ]
    },
    {
      "cell_type": "markdown",
      "metadata": {
        "id": "W8mfTIJumE0b"
      },
      "source": [
        "### 2. The Clinic\n",
        "\n",
        "- Whenever deemed necessary in the classroom, especially during the first month of classes, students are encouraged to go to the \"L.EIC's Clinic\", supervised by student assistants, to get help.\n",
        "\n",
        "- The activity of the L.EIC's Clinic is detailed elsewhere.\n",
        "\n",
        "- You may also pose questions at the \"Discussion forum\" in [Moodle](https://moodle.up.pt)."
      ]
    },
    {
      "cell_type": "markdown",
      "metadata": {
        "id": "1JGqktDamWxC"
      },
      "source": [
        "### 3. Code, Test & Play\n",
        "\n",
        "- The student carefully reads the requests in the questionnaires (QPnn Moodle quiz)\n",
        "\n",
        "- The student tests a solution to match the requests using VS Code\n",
        "\n",
        "- When ready, before the deadline, the student checks the solution and submits in the Moodle quiz at https://moodle.up.pt\n",
        "\n",
        "- Whenever there's spare time, the student pays a visit to the playground at the http://fp-leic.fe.up.pt/play"
      ]
    },
    {
      "cell_type": "markdown",
      "metadata": {
        "id": "uixJowNpmljf"
      },
      "source": [
        "### 4. Software\n",
        "\n",
        "To run the examples and work in the weekly assignments in your machine in need to have Python3 and Visual Studio Code (VS Code) IDE installed locally.\n",
        "\n",
        "#### 4.1 VS Code\n",
        "\n",
        "To install VS Code in Linux follow the instructions in [Visual Studio Code on Linux](https://code.visualstudio.com/docs/setup/linux).\n",
        "\n",
        "After starting VS Code you should also install the following extensions:\n",
        "\n",
        "- Python extension for Visual Studio Code\n",
        "- Python Debugger extension for Visual Studio Code\n",
        "- PyLance"
      ]
    },
    {
      "cell_type": "markdown",
      "metadata": {
        "id": "88EhODBUm4rg"
      },
      "source": [
        "### 5. Get a copy of the Notebooks\n",
        "\n",
        "First, go to the FP's Materials [folder at Google U.Porto](https://drive.google.com/drive/folders/1UT3DGPJ7RocaZBRSERyd1Ig1QL_NaiqF?usp=sharing)\n",
        "get a copy of the notebook and **make your own copy** in your Google Drive.\n",
        "\n",
        "Then, to prepare for the lecture, you read the notebook, change and execute the Python code and, during the class, you may use your copy of the notebook to take notes."
      ]
    },
    {
      "cell_type": "markdown",
      "metadata": {
        "id": "TgvE4SjYnDkt"
      },
      "source": [
        "### 6 The FP team\n",
        "\n",
        "The team has staff and monitors.\n",
        "\n",
        "#### 6.1 Teaching staff\n",
        "\n",
        "- Alexandra Mendes, **Coordinator**, PhD, Assistant Professor at FEUP/DEI, Senior Researcher at INESC TEC\n",
        "- Nuno Macedo, **Coordinator**, PhD, Assistant Professor at FEUP/DEI, Senior Researcher at INESC TEC\n",
        "- Afonso Sousa, Invited Assistent, PhD candidate, Researcher at INESC TEC\n",
        "- André Meira, Invited Assistent, PhD candidate, Researcher at FCUP/DCC\n",
        "- João Bispo, Assistent, PhD, Assistant Professor at FEUP/DEI, Senior Researcher at INESC TEC\n",
        "- João Correia Lopes, Assistent, PhD, Assistant Professor at FEUP/DEI, Senior Researcher at INESC TEC\n",
        "- Rúben Dhanaraju, Invited Assistent, PhD candidate\n",
        "- Simão Reis, Invited Assistant, PhD candidate, Researcher at FCUP/DCC\n",
        "\n",
        "#### 6.2 Monitors\n",
        "\n",
        "- Filipe Correia, up202206776, student at L.EIC\n",
        "- Luís Wolffrom Barbosa, up202303872, student at L.EIC\n",
        "\n",
        "#### 6.3 Past members\n",
        "\n",
        "- Ana Sofia Costa, up202007602, student at L.EIC\n",
        "- André Lima, up202008169, student at L.EIC\n",
        "- António Bezerra, up201806854, student at MIEIC\n",
        "- António Coelho, PhD, Associate Professor at FEUP/DEI, Senior Researcher at INESC TEC\n",
        "- Bruno Oliveira, up202208700, student at L.EIC\n",
        "- Diogo Babo, up202004950, student at L.EIC\n",
        "- Eduardo Soares, PhD candidate, Researcher at FCUP/DCC\n",
        "- Eunice Amorim, up201904920, student at MIEIC\n",
        "- Fernando Cassola, former PhD candidate, Researcher at INESC TEC\n",
        "- Gonçalo Nunes, up202205538, student at L.EIC\n",
        "- João Damas, up201504088, former student at MEIC\n",
        "- Lara Coelho, up202208689, student at L.EIC\n",
        "- Luís Du, up202105385, student at L.EIC\n",
        "- Luís Sousa, up202005832, student at L.EIC\n",
        "- Marco Costa, up202108821, student at L.EIC\n",
        "- Margarida Oliveira: up201906784, student at MIEIC\n",
        "- Mariana Lobão, up202004260, student at L.EIC\n",
        "- Nuno Pereira, up202007865, student at L.EIC\n",
        "- Pedro Correia: up201905348, student at MIEIC\n",
        "- Pedro Ferreira, former PhD candidate, Researcher at INESC TEC\n",
        "- Pedro Vasconcelos, Coordinator, PhD, Assistant Professor at FCUP/DCC\n",
        "- Ricardo Cruz, Assistent, PhD, Researcher at INESC TEC\n",
        "- Rita Lopes, up202108819, student at L.EIC\n",
        "- Rodrigo Marques, Invited Assistant, PhD candidate, Researcher at FCUP/DCC\n",
        "- Rui Camacho, Assistent, PhD, Associate Professor at FEUP/DEI, Senior Researcher at INESC TEC\n",
        "- Rui Teixeira: up201905853, student at MIEIC\n",
        "- Sílvio Sampaio, Assistent, PhD, Researcher at FCUP/DCC\n",
        "- Sofia Gonçalves, up202205020, student at L.EIC\n",
        "- Sofia Pinto, up202108682, student at L.EIC\n",
        "- Telmo Baptista, up201806554, student at MIEIC"
      ]
    },
    {
      "cell_type": "markdown",
      "metadata": {
        "id": "68mxUmqLlE8a"
      },
      "source": [
        "### 7 Zen of Python\n",
        "\n",
        "Try running this, and enjoy!"
      ]
    },
    {
      "cell_type": "code",
      "execution_count": null,
      "metadata": {
        "id": "WV_9JdaP4rAx"
      },
      "outputs": [],
      "source": [
        "import this"
      ]
    },
    {
      "cell_type": "markdown",
      "metadata": {
        "id": "ku98rRW_5rMv"
      },
      "source": [
        "\n",
        "-- João Correia Lopes, seg 16 set 2024 17:13:43 WEST"
      ]
    }
  ],
  "metadata": {
    "colab": {
      "provenance": []
    },
    "kernelspec": {
      "display_name": "Python 3 (ipykernel)",
      "language": "python",
      "name": "python3"
    },
    "language_info": {
      "codemirror_mode": {
        "name": "ipython",
        "version": 3
      },
      "file_extension": ".py",
      "mimetype": "text/x-python",
      "name": "python",
      "nbconvert_exporter": "python",
      "pygments_lexer": "ipython3",
      "version": "3.10.12"
    }
  },
  "nbformat": 4,
  "nbformat_minor": 0
}
