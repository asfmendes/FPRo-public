{
  "nbformat": 4,
  "nbformat_minor": 0,
  "metadata": {
    "colab": {
      "provenance": [],
      "collapsed_sections": []
    },
    "kernelspec": {
      "display_name": "Python 3",
      "language": "python",
      "name": "python3"
    },
    "language_info": {
      "codemirror_mode": {
        "name": "ipython",
        "version": 3
      },
      "file_extension": ".py",
      "mimetype": "text/x-python",
      "name": "python",
      "nbconvert_exporter": "python",
      "pygments_lexer": "ipython3",
      "version": "3.8.10"
    }
  },
  "cells": [
    {
      "cell_type": "markdown",
      "metadata": {
        "id": "z2c6JFr7juPQ"
      },
      "source": [
        "# FP: Programming Fundamentals (with Python)\n",
        "\n",
        "## Preface\n",
        "\n",
        "### L.EIC/2022-23\n",
        "\n",
        "#### João Correia Lopes$^{1}$, Pedro Vasconcelos$^{2}$\n",
        "$^{1}$FEUP/DEI & INESC TEC\\\n",
        "$^{2}$FCUP/DCC & LIACC"
      ]
    },
    {
      "cell_type": "markdown",
      "metadata": {
        "id": "u8Ojq9vSaDEj"
      },
      "source": [
        "The Jupyter Notebook collection serves as an overview of the materials to be studied at the Unit. Notebooks are used as the basis for class presentations and discussions, so you should **study them carefully before coming to class**.\n",
        "\n",
        "Note that the use of the <upxxxxxxxxx@g.uporto.pt> account for the U.P. Google Cloud is required to access the notebooks.\n",
        "\n",
        "**There's no point in asking them to be shared individually with your personal Google account!**\n",
        "\n",
        "&nbsp;\n",
        "\n",
        "A Jupyter notebook is a document that supports narrative text, Python executable code, equations and visualizations.\n",
        "\n",
        "First, get a copy of the notebooks from the *Materials folder* at Google U.Porto and **make your own copy** in Google Colab.\n",
        "\n",
        "Then, to prepare for the lecture, you read the notebook, change and execute the Python code and, during the class, you may use your copy of the notebook to take notes.\n",
        "\n",
        "**If you find mistakes or have suggestions for improvements in the notebooks, please let us know.**\n",
        "\n",
        "About 2/3 of the materials are based on the open-source book: \n",
        "[How to Think Like a Computer Scientist](http://openbookproject.net/thinkcs/python/english3e/index.html).\n"
      ]
    },
    {
      "cell_type": "markdown",
      "metadata": {
        "id": "sciOQfYvjYW7"
      },
      "source": [
        "### 1. Tips\n",
        "\n",
        "- The notebooks are used in the class to illustrate the discussions and the coding examples; therefore, there are no slides to study the class matters later; moreover, it should be noted that the notebooks are NOT a replacement for **studying the bibliography** listed for each topic\n",
        "\n",
        "- \"Students are responsible for anything that transpires during a class, therefore **if you're not in a class**, you should get notes from someone else (not the instructor)\" — David Mayer\n",
        "\n",
        "- Students have to **read carefully** and **understand** the documentation published in the [Unit Moodle instance](https://moodle.up.pt) (or else **ask in the recitation class**)"
      ]
    },
    {
      "cell_type": "markdown",
      "metadata": {
        "id": "W8mfTIJumE0b"
      },
      "source": [
        "### 2. The Clinic\n",
        "\n",
        "- Whenever deemed necessary in the classroom, especially during the first month of classes, students are encouraged to go to the \"Clinic\", supervised by student assistants, to get help.\n",
        "\n",
        "- The activity of the clinic is detailed in the page \"Help with Discord & clinic at room\" in [Moodle](https://moodle.up.pt).\n",
        "\n",
        "- You may also pose questions at the \"Discussion forum\" in [Moodle](https://moodle.up.pt)."
      ]
    },
    {
      "cell_type": "markdown",
      "metadata": {
        "id": "1JGqktDamWxC"
      },
      "source": [
        "### 3. Code, Test & Play\n",
        "\n",
        "- The student carefully reads the requests in the questionnaires (Pnn Moodle quiz) \n",
        "\n",
        "- The students tests a solution to match the requests using Spyder (or another suitable IDE)\n",
        "\n",
        "- When ready, before the deadline, the student checks the solution and submits in the Moodle quiz at https://moodle.up.pt\n",
        "\n",
        "- Whenever there's spare time, the student pays a visit to the playground at the http://fp-leic.fe.up.pt/play"
      ]
    },
    {
      "cell_type": "markdown",
      "metadata": {
        "id": "uixJowNpmljf"
      },
      "source": [
        "### 4. Software\n",
        "\n",
        "To run the examples and work in the weekly assignments in your machne in need to have Python3 and Spyder IDE installed localy.\n",
        "For that, you may install Anaconda (or Miniconda), or only the needed the packages in Linux.\n",
        "\n",
        "#### 4.1 Anaconda3-2022.05-Linux\n",
        "\n",
        "Anaconda® is a package manager, an environment manager, a Python/R data science distribution, and a collection of over 1,500+ open source packages. \n",
        "Anaconda is free and [easy to install](https://www.anaconda.com/distribution/)\n",
        "in Linux (e.g. Ubuntu), MAC OS, Windows.\n",
        "\n",
        "If you have Ubuntu, as I do, open a terminal command (AKA bash shell) and type:\n",
        "\n",
        "```\n",
        "# get Anaconda3-2022.05-Linux-x86_64.sh\n",
        "cd ~/Downloads\n",
        "wget https://repo.anaconda.com/archive/Anaconda3-2022.05-Linux-x86_64.sh\n",
        "\n",
        "# Install Anaconda3\n",
        "bash ~/Downloads/Anaconda3-2022.05-Linux-x86_64.sh\n",
        "\n",
        "# Review (and accept) the license agreement\n",
        "# Enter install location (/home/jlopes/anaconda3)\n",
        "\n",
        "# Initialize Anaconda3\n",
        "conda init  # it changes the end of your .bashrc file\n",
        "\n",
        "# For changes to take effect, close and re-open your current shell\n",
        "\n",
        "# You may have to install some more packages\n",
        "sudo apt install libgl1-mesa-glx libegl1-mesa libxrandr2 libxrandr2 libxss1\\\n",
        " libxcursor1 libxcomposite1 libasound2 libxi6 libxtst6\n",
        " \n",
        "# Testing your installation\n",
        "conda list\n",
        "\n",
        "# Use anaconda-navigator\n",
        "anaconda-navigator  # gives you access to Spyder 4 using the Python 3.10 interpreter\n",
        "```\n",
        "\n",
        "#### 4.2 Miniconda\n",
        "\n",
        "Want to install conda and use it to install just the packages you need? \n",
        "Then, [Get Miniconda](http://conda.pydata.org/miniconda.html).\n",
        "\n",
        "If you have Ubuntu (as I do), open a terminal command and type:\n",
        "\n",
        "```\n",
        "# get Miniconda3-latest-Linux-x86_64.sh\n",
        "cd ~/Downloads\n",
        "wget https://repo.anaconda.com/miniconda/Miniconda3-latest-Linux-x86_64.sh\n",
        "\n",
        "# Install Miniconda3\n",
        "bash Miniconda3-latest-Linux-x86_64.sh\n",
        "\n",
        "# If you'd prefer that conda's base environment not be activated on startup, \n",
        "# set the auto_activate_base parameter to false: \n",
        "\n",
        "conda config --set auto_activate_base false\n",
        "\n",
        "# Install Spyder\n",
        "conda install spyder\n",
        "\n",
        "# Install Jupyter Notebooks\n",
        "conda install jupyter\n",
        "\n",
        "# install some other useful packages\n",
        "conda install numpy matplotlib\n",
        "```\n",
        "\n",
        "#### 4.3 Ubuntu 22.04 LTS\n",
        "\n",
        "In Ubuntu 22.04 you may as well install only the needed packages; open a terminal command and type:\n",
        "\n",
        "```\n",
        "# sudo apt install python3\n",
        "python --version  # Python 3.10.4\n",
        "sudo apt install python3-pip\n",
        "sudo apt install python3-numpy python3-scipy python3-matplotlib python3-yaml python3-lxml\n",
        "\n",
        "sudo apt install spyder3\n",
        "sudo apt install jupyter-notebook\n",
        "```"
      ]
    },
    {
      "cell_type": "markdown",
      "metadata": {
        "id": "88EhODBUm4rg"
      },
      "source": [
        "### 5. Get a copy of the Notebooks\n",
        "\n",
        "First, go to the FP's Materials [folder at Google U.Porto](https://drive.google.com/drive/folders/1UT3DGPJ7RocaZBRSERyd1Ig1QL_NaiqF?usp=sharing)\n",
        "get a copy of the notebook and **make your own copy** in your Google Drive.\n",
        "\n",
        "Then, to prepare for the lecture, you read the notebook, change and execute the Python code and, during the class, you may use your copy of the notebook to take notes."
      ]
    },
    {
      "cell_type": "markdown",
      "metadata": {
        "id": "TgvE4SjYnDkt"
      },
      "source": [
        "### 6 The FP team\n",
        "\n",
        "The team has staff and monitors.\n",
        "\n",
        "#### 6.1 Teaching staff\n",
        "\n",
        "- João Correia Lopes, Coordinator, PhD, Auxiliary Professor at FEUP/DEI, Senior Researcher at INESC TEC\n",
        "- Pedro Vasconcelos, Coordinator, PhD, Auxiliary Professor at FCUP/DCC\n",
        "- Afonso Sousa, Assistent, PhD candidate, Researcher at INESC TEC\n",
        "- André Meira, Assistent, PhD candidate, Researcher at FCUP/DCC\n",
        "- João Bispo, Assistent, PhD, Auxiliary Professor at FEUP/DEI, Assistant Researcher at INESC TEC\n",
        "- Nuno Macedo, Assistent, PhD, Auxiliary Professor at FEUP/DEI, Assistant Researcher at INESC TEC\n",
        "- Sílvio Sampaio, Assistent, PhD, Researcher at FCUP/DCC\n",
        "\n",
        "#### 6.2 Clinic doctors\n",
        "\n",
        "- Luís Du, up202105385, student at L.EIC\n",
        "- Luís  Sousa, up202005832, student at L.EIC\n",
        "- Marco Costa, up202108821, student at L.EIC\n",
        "- Rita Lopes, up202108819, student at L.EIC\n",
        "- Sofia Pinto, up202108682, student at L.EIC\n",
        "\n",
        "#### 6.3 Past members\n",
        "\n",
        "- Ana Sofia Costa, up202007602, student at L.EIC\n",
        "- André Lima, up202008169, student at L.EIC\n",
        "- António Bezerra, up201806854, student at MIEIC\n",
        "- António Coelho, PhD, Associate Professor at FEUP/DEI, Senior Researcher at INESC TEC\n",
        "- Diogo Babo, up202004950, student at L.EIC\n",
        "- Eduardo Soares, PhD candidate, Researcher at FCUP/DCC\n",
        "- Eunice Amorim, up201904920, student at MIEIC\n",
        "- Fernando Cassola, former PhD candidate, Researcher at INESC TEC\n",
        "- João Damas, up201504088, former student at MEIC\n",
        "- Margarida Oliveira: up201906784, student at MIEIC\n",
        "- Mariana Lobão, up202004260, student at L.EIC\n",
        "- Nuno Pereira, up202007865, student at L.EIC\n",
        "- Pedro Correia: up201905348, student at MIEIC\n",
        "- Pedro Ferreira, former PhD candidate, Researcher at INESC TEC\n",
        "- Ricardo Cruz, Assistent, PhD, Researcher at INESC TEC\n",
        "- Rui Camacho, Assistent, PhD, Associate Professor at FEUP/DEI, Senior Researcher at INESC TEC\n",
        "- Rui Teixeira: up201905853, student at MIEIC\n",
        "- Telmo Baptista, up201806554, student at MIEIC"
      ]
    },
    {
      "cell_type": "markdown",
      "metadata": {
        "id": "68mxUmqLlE8a"
      },
      "source": [
        "### 7 Zen of Python\n",
        "\n",
        "Try running this, and enjoy!"
      ]
    },
    {
      "cell_type": "code",
      "metadata": {
        "id": "WV_9JdaP4rAx"
      },
      "source": [
        "import this"
      ],
      "execution_count": null,
      "outputs": []
    },
    {
      "cell_type": "markdown",
      "metadata": {
        "id": "ku98rRW_5rMv"
      },
      "source": [
        "\n",
        "-- João Correia Lopes & Pedro Vasconcelos,  Mon Oct 04 11:18:39 2021"
      ]
    }
  ]
}