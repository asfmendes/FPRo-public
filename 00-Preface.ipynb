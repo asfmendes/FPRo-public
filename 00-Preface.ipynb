{
  "cells": [
    {
      "cell_type": "markdown",
      "metadata": {
        "id": "z2c6JFr7juPQ"
      },
      "source": [
        "# FP: Programming Fundamentals (with Python)\n",
        "\n",
        "## Preface\n",
        "\n",
        "### L.EIC/2024-25\n",
        "\n",
        "#### Alexandra Mendes\n",
        "FEUP/DEI & INESC TEC\\\n"
      ]
    },
    {
      "cell_type": "markdown",
      "metadata": {
        "id": "u8Ojq9vSaDEj"
      },
      "source": [
        "The Jupyter Notebook collection serves as an overview of the materials to be studied at the Unit. Notebooks are used as the basis for class presentations and discussions, so you should **study them carefully before coming to class**.\n",
        "\n",
        "Note that the use of the <upxxxxxxxxx@g.uporto.pt> account for the U.P. Google Cloud is required to access the notebooks.\n",
        "If you don't have an account, just go to your personal Sigarra page and look for the \"Google Account\" option.\n",
        "\n",
        "**There's no point in asking them to be shared individually with your personal Google account!**\n",
        "\n",
        "&nbsp;\n",
        "\n",
        "A Jupyter notebook is a document that supports narrative text, Python executable code, equations and visualizations.\n",
        "\n",
        "First, get a copy of the notebooks from the *Materials folder* at Google U.Porto and **make your own copy** in Google Colab.\n",
        "\n",
        "Then, to prepare for the lecture, you read the notebook, change and execute the Python code and, during the class, you may use your copy of the notebook to take notes.\n",
        "\n",
        "**If you find mistakes or have suggestions for improvements in the notebooks, please let us know.**\n",
        "\n",
        "About 2/3 of the materials are based on the open-source book:\n",
        "[How to Think Like a Computer Scientist](http://openbookproject.net/thinkcs/python/english3e/index.html).\n"
      ]
    },
    {
      "cell_type": "markdown",
      "metadata": {
        "id": "sciOQfYvjYW7"
      },
      "source": [
        "### 1. Tips\n",
        "\n",
        "- The notebooks are used in the class to illustrate the discussions and the coding examples; therefore, there are no slides to study the class matters later; moreover, it should be noted that the notebooks are NOT a replacement for **studying the bibliography** listed for each topic\n",
        "\n",
        "- \"Students are responsible for anything that transpires during a class, therefore **if you're not in a class**, you should get notes from someone else (not the instructor)\" — David Mayer\n",
        "\n",
        "- Students have to **read carefully** and **understand** the documentation published in the [Unit Moodle instance](https://moodle.up.pt) (or else **ask in the recitation class**)"
      ]
    },
    {
      "cell_type": "markdown",
      "metadata": {
        "id": "W8mfTIJumE0b"
      },
      "source": [
        "### 2. Questions and Help\n",
        "\n",
        "- Whenever deemed necessary in the classroom, especially during the first month of classes, students are encouraged to go to the \"L.EIC's Clinic\", supervised by student assistants, to get help.  The activity of the L.EIC's Clinic is detailed elsewhere.\n",
        "\n",
        "- You may also pose questions at the \"Discussion forum\" in [Moodle](https://moodle2425.up.pt/mod/forum/view.php?id=46157).\n",
        "\n",
        "- There is a WhatApp channel for emergencies and the staff's contact details and office hours on [Moodle](https://moodle2425.up.pt/mod/page/view.php?id=46159)"
      ]
    },
    {
      "cell_type": "markdown",
      "metadata": {
        "id": "1JGqktDamWxC"
      },
      "source": [
        "### 3. Code, Test & Play\n",
        "\n",
        "- The student carefully reads the requests in the questionnaires (QPnn Moodle quiz)\n",
        "\n",
        "- The student tests a solution to match the requests using VS Code\n",
        "\n",
        "- When ready, the student checks the solution and submits in the Moodle quiz at https://moodle.up.pt\n",
        "\n",
        "- Whenever there's spare time, the student pays a visit to the playground at the http://fp-leic.fe.up.pt/play"
      ]
    },
    {
      "cell_type": "markdown",
      "metadata": {
        "id": "uixJowNpmljf"
      },
      "source": [
        "### 4. Software\n",
        "\n",
        "To run the examples and work in the weekly assignments in your machine in need to have Python3 and Visual Studio Code (VS Code) IDE installed locally.\n",
        "\n",
        "#### 4.1 VS Code\n",
        "\n",
        "To install VS Code in Linux follow the instructions in [Visual Studio Code on Linux](https://code.visualstudio.com/docs/setup/linux).\n",
        "\n",
        "After starting VS Code you should also install the following extensions:\n",
        "\n",
        "- Python extension for Visual Studio Code\n",
        "- Python Debugger extension for Visual Studio Code\n",
        "- PyLance"
      ]
    },
    {
      "cell_type": "markdown",
      "metadata": {
        "id": "88EhODBUm4rg"
      },
      "source": [
        "### 5. Get a copy of the Notebooks\n",
        "\n",
        "First, go to the FP's Materials [folder at Google U.Porto](https://drive.google.com/drive/folders/1UT3DGPJ7RocaZBRSERyd1Ig1QL_NaiqF?usp=sharing)\n",
        "get a copy of the notebook and **make your own copy** in your Google Drive.\n",
        "\n",
        "Then, to prepare for the lecture, you read the notebook, change and execute the Python code and, during the class, you may use your copy of the notebook to take notes."
      ]
    },
    {
      "cell_type": "markdown",
      "metadata": {
        "id": "TgvE4SjYnDkt"
      },
      "source": [
        "### 6 The FP team\n",
        "\n",
        "The team has staff and monitors.\n",
        "\n",
        "#### 6.1 Teaching staff\n",
        "\n",
        "- Alexandra Mendes, **Coordinator**, PhD, Assistant Professor at FEUP/DEI, Senior Researcher at INESC TEC\n",
        "- João F. Ferreira, PhD, Associate Professor at FEUP/DEI, Integrated Researcher at INESC ID\n",
        "- Ricardo Cruz, PhD, Assistant Professor at FEUP/DEI, Senior Researcher at INESC TEC\n",
        "- André Meira, PhD candidate, Invited Assistant, Researcher at FCUP/DCC\n",        
        "- Álvaro Silva, PhD Candidate, Invited Assistant Professor at FEUP/DEI, Researcher at INESC TEC\n",
        "- Carolina Carreira, PhD candidate, Invited Assistant Professor at FEUP/DEI, \n",  
        "- João Bispo, Assistant, PhD, Assistant Professor at FEUP/DEI, Researcher at CMU, IST, INESC ID\n",
        "\n",
        "#### 6.2 Monitors 24/25\n",
        "\n",
        "- Filipe Correia, up202206776, student at L.EIC\n",
        "- Luís Wolffrom Barbosa, up202303872, student at L.EIC\n",
        "\n"
      ]
    },
    {
      "cell_type": "markdown",
      "metadata": {
        "id": "68mxUmqLlE8a"
      },
      "source": [
        "### 7 Zen of Python\n",
        "\n",
        "Try running this, and enjoy!"
      ]
    },
    {
      "cell_type": "code",
      "execution_count": null,
      "metadata": {
        "id": "WV_9JdaP4rAx"
      },
      "outputs": [],
      "source": [
        "import this"
      ]
    },
    {
      "cell_type": "markdown",
      "metadata": {
        "id": "ku98rRW_5rMv"
      },
      "source": [
        "\n",
        "-- Alexandra Mendes"
      ]
    }
  ],
  "metadata": {
    "colab": {
      "provenance": []
    },
    "kernelspec": {
      "display_name": "Python 3 (ipykernel)",
      "language": "python",
      "name": "python3"
    },
    "language_info": {
      "codemirror_mode": {
        "name": "ipython",
        "version": 3
      },
      "file_extension": ".py",
      "mimetype": "text/x-python",
      "name": "python",
      "nbconvert_exporter": "python",
      "pygments_lexer": "ipython3",
      "version": "3.10.12"
    }
  },
  "nbformat": 4,
  "nbformat_minor": 0
}
